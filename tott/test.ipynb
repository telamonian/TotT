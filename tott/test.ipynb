{
 "cells": [
  {
   "cell_type": "code",
   "execution_count": 1,
   "metadata": {
    "collapsed": false
   },
   "outputs": [
    {
     "name": "stdout",
     "output_type": "stream",
     "text": [
      "Populating the interactive namespace from numpy and matplotlib\n"
     ]
    }
   ],
   "source": [
    "%pylab inline\n",
    "%load_ext autoreload\n",
    "%autoreload 2\n",
    "\n",
    "from thesaurus import Thesaurus"
   ]
  },
  {
   "cell_type": "code",
   "execution_count": 2,
   "metadata": {
    "collapsed": true
   },
   "outputs": [],
   "source": [
    "t = Thesaurus('mthesaur.txt')"
   ]
  },
  {
   "cell_type": "code",
   "execution_count": 3,
   "metadata": {
    "collapsed": false
   },
   "outputs": [],
   "source": [
    "cloud = t.getCloud('virus')"
   ]
  },
  {
   "cell_type": "code",
   "execution_count": 9,
   "metadata": {
    "collapsed": false
   },
   "outputs": [
    {
     "data": {
      "text/plain": [
       "<thesaurus.Cloud at 0x118361dd0>"
      ]
     },
     "execution_count": 9,
     "metadata": {},
     "output_type": "execute_result"
    }
   ],
   "source": [
    "cloud = "
   ]
  },
  {
   "cell_type": "code",
   "execution_count": 5,
   "metadata": {
    "collapsed": false
   },
   "outputs": [
    {
     "name": "stdout",
     "output_type": "stream",
     "text": [
      "3\n",
      "[1, 1, 171]\n",
      "[1, 219, 50, 42, 36, 312, 78, 116, 87, 143, 307, 132, 67, 55, 40, 107, 79, 528, 88, 179, 302, 97, 109, 102, 390, 79, 49, 666, 232, 44, 31, 87, 149, 67, 53, 219, 47, 94, 19, 90, 82, 78, 227, 166, 82, 107, 108, 90, 83, 111, 80, 96, 495, 43, 160, 175, 274, 117, 355, 86, 146, 58, 139, 107, 77, 114, 76, 157, 213, 57, 226, 68, 298, 462, 44, 112, 68, 33, 84, 41, 206, 57, 150, 78, 175, 127, 199, 88, 91, 193, 127, 211, 69, 55, 117, 45, 175, 131, 92, 171, 132, 265, 778, 86, 181, 228, 67, 59, 44, 106, 36, 33, 108, 48, 71, 198, 114, 200, 51, 245, 56, 53, 192, 37, 48, 499, 45, 87, 36, 164, 141, 62, 140, 698, 226, 61, 36, 72, 75, 89, 109, 59, 39, 110, 133, 124, 65, 56, 109, 210, 98, 66, 310, 111, 75, 187, 118, 24, 129, 32, 32, 59, 68, 39, 50, 73, 127, 40, 111, 44, 107, 304, 77]\n"
     ]
    }
   ],
   "source": [
    "cloud = happy\n",
    "print len(cloud.container)\n",
    "print [len(layer.container) for layer in cloud]\n",
    "print [len(wordList) for layer in cloud for wordList in layer]"
   ]
  },
  {
   "cell_type": "code",
   "execution_count": 4,
   "metadata": {
    "collapsed": true
   },
   "outputs": [],
   "source": [
    "happy = t.getCloud('happy')\n",
    "smile = t.getCloud('smile')\n",
    "lucky = t.getCloud('lucky')\n",
    "rictus = t.getCloud('rictus')\n",
    "jovial = t.getCloud('jovial')"
   ]
  },
  {
   "cell_type": "code",
   "execution_count": 7,
   "metadata": {
    "collapsed": false
   },
   "outputs": [
    {
     "name": "stdout",
     "output_type": "stream",
     "text": [
      "8480\n",
      "666\n",
      "325\n"
     ]
    }
   ],
   "source": [
    "print len(happy.getSet())\n",
    "print len(happy & smile)\n",
    "print len(happy.getSet() & smile.getSet() & lucky.getSet())"
   ]
  },
  {
   "cell_type": "code",
   "execution_count": 25,
   "metadata": {
    "collapsed": false
   },
   "outputs": [
    {
     "name": "stdout",
     "output_type": "stream",
     "text": [
      "220\n",
      "1\n",
      "0\n",
      "1\n"
     ]
    }
   ],
   "source": [
    "words = ['happy',\n",
    "         'smile',\n",
    "         'lucky']\n",
    "#          'rictus',\n",
    "#          'jovial']\n",
    "# words = ['abnormal',\n",
    "#          'anomaly',\n",
    "#          'aberration']\n",
    "\n",
    "clouds = []\n",
    "wordSets = []\n",
    "lengths = []\n",
    "for i,word in enumerate(words):\n",
    "    clouds.append(t.getCloud(word, depth=2))\n",
    "    wordSets.append(set.intersection(*[cloud.getSet() for cloud in clouds]))\n",
    "    lengths.append(len(wordSets[-1]))\n",
    "    print lengths[i]\n",
    "    if lengths[i] < 1:\n",
    "        clouds[i] = t.getCloud(word, depth=3)\n",
    "        wordSets[i] = set.intersection(*[cloud.getSet() for cloud in clouds])\n",
    "        lengths[i] = len(wordSets[-1])\n",
    "        print lengths[i]"
   ]
  },
  {
   "cell_type": "code",
   "execution_count": 26,
   "metadata": {
    "collapsed": false
   },
   "outputs": [
    {
     "data": {
      "text/plain": [
       "{'smiling'}"
      ]
     },
     "execution_count": 26,
     "metadata": {},
     "output_type": "execute_result"
    }
   ],
   "source": [
    "wordSets[-1]"
   ]
  },
  {
   "cell_type": "code",
   "execution_count": 18,
   "metadata": {
    "collapsed": false
   },
   "outputs": [
    {
     "data": {
      "text/plain": [
       "[<matplotlib.lines.Line2D at 0x11e290890>]"
      ]
     },
     "execution_count": 18,
     "metadata": {},
     "output_type": "execute_result"
    },
    {
     "data": {
      "image/png": "[encoded data removed]",
      "text/plain": [
       "<matplotlib.figure.Figure at 0x11e38e490>"
      ]
     },
     "metadata": {},
     "output_type": "display_data"
    }
   ],
   "source": [
    "fig = plt.figure(figsize=(12,12))\n",
    "ax = plt.gca()\n",
    "\n",
    "ax.plot(range(1, len(lengths) + 1), lengths, lw=10)"
   ]
  },
  {
   "cell_type": "code",
   "execution_count": 15,
   "metadata": {
    "collapsed": false
   },
   "outputs": [
    {
     "data": {
      "text/plain": [
       "[1, 2, 3, 4]"
      ]
     },
     "execution_count": 15,
     "metadata": {},
     "output_type": "execute_result"
    }
   ],
   "source": [
    "range(1, len(lengths))"
   ]
  },
  {
   "cell_type": "code",
   "execution_count": null,
   "metadata": {
    "collapsed": true
   },
   "outputs": [],
   "source": []
  }
 ],
 "metadata": {
  "kernelspec": {
   "display_name": "Python 2",
   "language": "python",
   "name": "python2"
  },
  "language_info": {
   "codemirror_mode": {
    "name": "ipython",
    "version": 2
   },
   "file_extension": ".py",
   "mimetype": "text/x-python",
   "name": "python",
   "nbconvert_exporter": "python",
   "pygments_lexer": "ipython2",
   "version": "2.7.8"
  }
 },
 "nbformat": 4,
 "nbformat_minor": 0
}
